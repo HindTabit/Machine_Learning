{
 "cells": [
  {
   "cell_type": "code",
   "execution_count": null,
   "id": "7e595f0a-361c-4cf1-916e-ac7f1952f7d2",
   "metadata": {},
   "outputs": [],
   "source": []
  },
  {
   "cell_type": "code",
   "execution_count": null,
   "id": "cc35967f-16b0-4ccf-935f-2ec864132efd",
   "metadata": {},
   "outputs": [],
   "source": []
  },
  {
   "cell_type": "code",
   "execution_count": null,
   "id": "c6dd34ab-553f-4e85-91f9-b9075f9ed77d",
   "metadata": {},
   "outputs": [],
   "source": []
  },
  {
   "cell_type": "markdown",
   "id": "736d2db8-54a0-4f33-8ca8-b38b514fab42",
   "metadata": {},
   "source": [
    "\n",
    "## Meta-Learning for Linear Regression Parameter Initialization\n",
    "\n",
    "**The core idea: Learn how to initialize 'a' and 'b' parameters based on dataset statistical characteristics.**\n",
    "\n",
    "**this way, we will need way less (or zero) iterations for convevrgence as compared to random initialization each time.**\n",
    "\n",
    "\n",
    "### Project breakdown:\n",
    "\n",
    "1. Dataset Generation:\n",
    "- Generate multiple synthetic datasets with different:\n",
    "  * Slopes (a values)\n",
    "  * Intercepts (b values)\n",
    "  * Noise levels\n",
    "  * Data ranges\n",
    "  * Sample sizes\n",
    "\n",
    "2. Feature Extraction from Datasets:\n",
    "Extract meta-features like:\n",
    "- Mean/std of x values\n",
    "- Mean/std of y values\n",
    "- Correlation coefficient\n",
    "- Data range\n",
    "- Sample size\n",
    "- Signal-to-noise ratio estimates\n",
    "- Basic statistical moments (skewness, kurtosis)\n",
    "\n",
    "3. Meta-Learning Task:\n",
    "- Create a meta-dataset where:\n",
    "  * Inputs = meta-features of each dataset\n",
    "  * Outputs = optimal (or good) initial values for 'a' and 'b'\n",
    "- Train a meta-model to predict good initialization values\n",
    "\n",
    "4. Evaluation:\n",
    "Compare three approaches:\n",
    "- Random initialization\n",
    "- Fixed initialization (like a=1, b=0)\n",
    "- Meta-learned initialization\n",
    "\n",
    "Measure:\n",
    "- Number of iterations to converge\n",
    "- Final loss value\n",
    "- Convergence stability\n",
    "\n",
    "This project helps students understand:\n",
    "- The importance of initialization\n",
    "- Dataset characteristics\n",
    "- Meta-features design\n",
    "- The relationship between data properties and model parameters\n",
    "\n"
   ]
  },
  {
   "cell_type": "code",
   "execution_count": null,
   "id": "9a694c24-181b-41ac-a4a9-b38527bb0a3e",
   "metadata": {},
   "outputs": [],
   "source": []
  },
  {
   "cell_type": "code",
   "execution_count": null,
   "id": "566ae36a-e44d-44e3-b643-6fab6152e8b6",
   "metadata": {},
   "outputs": [],
   "source": []
  },
  {
   "cell_type": "code",
   "execution_count": null,
   "id": "528b6002-8364-41a9-ba9b-7a19966cf894",
   "metadata": {},
   "outputs": [],
   "source": []
  },
  {
   "cell_type": "code",
   "execution_count": 25,
   "id": "561b66e4-574d-4fe3-95ab-80d5bcbd08ad",
   "metadata": {},
   "outputs": [],
   "source": [
    "import numpy as np\n",
    "import matplotlib.pyplot as plt\n",
    "import random\n",
    "\n",
    "from sklearn.ensemble import RandomForestRegressor\n",
    "from sklearn.svm import SVR\n",
    "\n",
    "from sklearn.preprocessing import StandardScaler\n",
    "from sklearn.model_selection import train_test_split"
   ]
  },
  {
   "cell_type": "code",
   "execution_count": null,
   "id": "c38a5ba9-89b7-452c-a304-0689a0d638ec",
   "metadata": {},
   "outputs": [],
   "source": []
  },
  {
   "cell_type": "code",
   "execution_count": 26,
   "id": "b2aaecde-f0f0-49cb-b062-f407c6986326",
   "metadata": {},
   "outputs": [],
   "source": [
    "# [Previous functions remain the same until train_meta_learner]\n",
    "def generate_dataset(size=20, true_a=1.0, true_b=2.0, x_range=(0, 10), noise_std=0.5):\n",
    "    X = np.random.uniform(x_range[0], x_range[1], size)\n",
    "    y = true_a * X + true_b + np.random.normal(0, noise_std, size)\n",
    "    return X, y\n",
    "\n",
    "def extract_meta_features(X, y):\n",
    "    features = {\n",
    "        'x_mean': np.mean(X),\n",
    "        'x_std': np.std(X),\n",
    "        'y_mean': np.mean(y),\n",
    "        'y_std': np.std(y),\n",
    "        'correlation': np.corrcoef(X, y)[0, 1],\n",
    "        'x_range': np.max(X) - np.min(X),\n",
    "        'y_range': np.max(y) - np.min(y),\n",
    "        'sample_size': len(X),\n",
    "        'x_skew': np.mean(((X - np.mean(X))/np.std(X))**3),\n",
    "        'y_skew': np.mean(((y - np.mean(y))/np.std(y))**3)\n",
    "    }\n",
    "    return features"
   ]
  },
  {
   "cell_type": "code",
   "execution_count": null,
   "id": "ec7af179-3a8a-4e34-922d-866b89ccd8e8",
   "metadata": {},
   "outputs": [],
   "source": []
  },
  {
   "cell_type": "code",
   "execution_count": 33,
   "id": "881fa982-6b22-4de9-b733-d0bfe4fb0b8e",
   "metadata": {},
   "outputs": [],
   "source": [
    "def train_linear_regression(X, y, a_init, b_init, epochs=500, learning_rate=0.005):\n",
    "    a = a_init\n",
    "    b = b_init\n",
    "    losses = []\n",
    "    ## x --> model --> ypred -----> MSE(ypred, yreelle) ----> GD (1. g, 2. optimisation)\n",
    "    for i in range(epochs):\n",
    "        y_pred = a*X + b\n",
    "        \n",
    "        loss = np.mean((y - y_pred)**2)\n",
    "        losses.append(loss)\n",
    "        \n",
    "        Da = -2*np.mean(X*(y - y_pred))\n",
    "        Db = -2*np.mean(y - y_pred)\n",
    "        \n",
    "        a = a - learning_rate*Da\n",
    "        b = b - learning_rate*Db\n",
    "        \n",
    "    return a, b, losses\n",
    "\n",
    "def generate_meta_dataset(n_datasets=100):\n",
    "    meta_features_list = []\n",
    "    optimal_params_list = []\n",
    "    \n",
    "    for _ in range(n_datasets):\n",
    "        true_a = np.random.uniform(0.1, 5.0)\n",
    "        true_b = np.random.uniform(-3.0, 3.0)\n",
    "        noise_std = np.random.uniform(0.1, 1.0)\n",
    "        \n",
    "        X, y = generate_dataset(size=1000 , true_a=true_a, true_b=true_b, noise_std=noise_std)\n",
    "        meta_features = extract_meta_features(X, y)\n",
    "        \n",
    "        meta_features_list.append(list(meta_features.values()))\n",
    "        optimal_params_list.append([true_a, true_b])\n",
    "    \n",
    "    return np.array(meta_features_list), np.array(optimal_params_list)"
   ]
  },
  {
   "cell_type": "code",
   "execution_count": null,
   "id": "426d4b1c-bfb6-4977-99d1-f63d6f4bac28",
   "metadata": {},
   "outputs": [],
   "source": []
  },
  {
   "cell_type": "code",
   "execution_count": 34,
   "id": "557ed334-a04a-4c3d-bc89-e238f33f53a4",
   "metadata": {},
   "outputs": [],
   "source": [
    "# New Meta-Learner class with multiple models\n",
    "class AdvancedMetaLearner:\n",
    "    def __init__(self, model_type='rf'):\n",
    "        self.model_type = model_type\n",
    "        self.scaler = StandardScaler()\n",
    "        \n",
    "        if model_type == 'rf':\n",
    "            self.model_a = RandomForestRegressor(n_estimators=100, max_depth=10)\n",
    "            self.model_b = RandomForestRegressor(n_estimators=100, max_depth=10)\n",
    "        elif model_type == 'svr':\n",
    "            self.model_a = SVR(kernel='rbf', C=1.0, epsilon=0.1)\n",
    "            self.model_b = SVR(kernel='rbf', C=1.0, epsilon=0.1)\n",
    "    \n",
    "    def train(self, meta_features, optimal_params):\n",
    "        # Scale features\n",
    "        X_scaled = self.scaler.fit_transform(meta_features)\n",
    "        \n",
    "        # Train separate models for a and b\n",
    "        self.model_a.fit(X_scaled, optimal_params[:, 0])\n",
    "        self.model_b.fit(X_scaled, optimal_params[:, 1])\n",
    "    \n",
    "    def predict(self, meta_features):\n",
    "        # Scale features\n",
    "        X_scaled = self.scaler.transform(meta_features.reshape(1, -1))\n",
    "        \n",
    "        # Predict a and b\n",
    "        a_pred = self.model_a.predict(X_scaled)[0]\n",
    "        b_pred = self.model_b.predict(X_scaled)[0]\n",
    "        \n",
    "        return a_pred, b_pred"
   ]
  },
  {
   "cell_type": "code",
   "execution_count": null,
   "id": "ad798af4-5fb9-4568-80d4-b73c6414ce8a",
   "metadata": {},
   "outputs": [],
   "source": []
  },
  {
   "cell_type": "code",
   "execution_count": 35,
   "id": "f5f24ba2-c164-4675-83ac-d8197793f2b0",
   "metadata": {},
   "outputs": [],
   "source": [
    "# Generate larger meta-dataset\n",
    "meta_features, optimal_params = generate_meta_dataset(n_datasets=500)\n",
    "\n",
    "# Split into train and validation sets\n",
    "X_train, X_val, y_train, y_val = train_test_split(\n",
    "    meta_features, optimal_params, test_size=0.2, random_state=42\n",
    ")"
   ]
  },
  {
   "cell_type": "code",
   "execution_count": null,
   "id": "ead0d966-cdfa-4b9b-bfc2-b87197c79e4e",
   "metadata": {},
   "outputs": [],
   "source": []
  },
  {
   "cell_type": "code",
   "execution_count": 36,
   "id": "4e190599-7fc3-4bf0-81cc-92055b092cae",
   "metadata": {},
   "outputs": [],
   "source": [
    "# Train both types of meta-learners\n",
    "rf_meta_learner = AdvancedMetaLearner(model_type='rf')\n",
    "svr_meta_learner = AdvancedMetaLearner(model_type='svr')\n",
    "\n",
    "rf_meta_learner.train(X_train, y_train)\n",
    "svr_meta_learner.train(X_train, y_train)\n",
    "\n",
    "# Test on a new dataset\n",
    "X_test, y_test = generate_dataset(true_a=2.5, true_b=1.5)\n"
   ]
  },
  {
   "cell_type": "code",
   "execution_count": null,
   "id": "018ebd74-c410-44ec-82ec-670af6308c86",
   "metadata": {},
   "outputs": [],
   "source": []
  },
  {
   "cell_type": "code",
   "execution_count": 37,
   "id": "1c12df1c-e1e7-459f-95f4-8c33f804d4da",
   "metadata": {},
   "outputs": [],
   "source": [
    "# Extract meta-features from test dataset\n",
    "test_meta_features = np.array(list(extract_meta_features(X_test, y_test).values()))\n",
    "\n",
    "# Get meta-learned initializations\n",
    "a_init_rf, b_init_rf = rf_meta_learner.predict(test_meta_features)\n",
    "a_init_svr, b_init_svr = svr_meta_learner.predict(test_meta_features)\n",
    "\n",
    "# Train with different initializations\n",
    "# 1. Random initialization\n",
    "a_random, b_random, losses_random = train_linear_regression(X_test, y_test, \n",
    "                                                          random.random(), random.random())\n",
    "\n",
    "# 2. RF meta-learned initialization\n",
    "a_rf, b_rf, losses_rf = train_linear_regression(X_test, y_test, \n",
    "                                               a_init_rf, b_init_rf)\n",
    "\n",
    "# 3. SVR meta-learned initialization\n",
    "a_svr, b_svr, losses_svr = train_linear_regression(X_test, y_test, \n",
    "                                                  a_init_svr, b_init_svr)\n"
   ]
  },
  {
   "cell_type": "code",
   "execution_count": null,
   "id": "47591541-5b4c-4eb6-9415-29940b21b2fc",
   "metadata": {},
   "outputs": [],
   "source": []
  },
  {
   "cell_type": "code",
   "execution_count": 38,
   "id": "9b3ee3ed-da2f-4974-8ba2-e5fac432aea4",
   "metadata": {},
   "outputs": [
    {
     "data": {
      "image/png": "[encoded data removed]",
      "text/plain": [
       "<Figure size 1500x500 with 2 Axes>"
      ]
     },
     "metadata": {},
     "output_type": "display_data"
    },
    {
     "name": "stdout",
     "output_type": "stream",
     "text": [
      "\n",
      "Initialization Values:\n",
      "Random: a=0.430, b=0.114\n",
      "RF Meta-learned: a=2.362, b=1.513\n",
      "SVR Meta-learned: a=1.817, b=-0.193\n",
      "\n",
      "Final Parameters:\n",
      "Random: a=2.552, b=1.408\n",
      "RF Meta-learned: a=2.520, b=1.609\n",
      "SVR Meta-learned: a=2.594, b=1.144\n"
     ]
    }
   ],
   "source": [
    "# Plotting results\n",
    "plt.figure(figsize=(15, 5))\n",
    "\n",
    "# Plot 1: Loss curves comparison\n",
    "plt.subplot(1, 2, 1)\n",
    "plt.plot(losses_random, label='Random Init')\n",
    "plt.plot(losses_rf, label='RF Meta-learned Init')\n",
    "plt.plot(losses_svr, label='SVR Meta-learned Init')\n",
    "plt.xlabel('Epochs')\n",
    "plt.ylabel('Loss')\n",
    "plt.legend()\n",
    "plt.title('Loss Curves Comparison')\n",
    "\n",
    "# Plot 2: Final regression lines\n",
    "plt.subplot(1, 2, 2)\n",
    "plt.scatter(X_test, y_test, color='blue', alpha=0.5, label='Data')\n",
    "x_line = np.linspace(min(X_test), max(X_test), 100)\n",
    "plt.plot(x_line, a_random*x_line + b_random, 'r--', label='Random Init')\n",
    "plt.plot(x_line, a_rf*x_line + b_rf, 'g--', label='RF Meta-learned')\n",
    "plt.plot(x_line, a_svr*x_line + b_svr, 'y-', label='SVR Meta-learned')\n",
    "plt.xlabel('X')\n",
    "plt.ylabel('y')\n",
    "plt.legend()\n",
    "plt.title('Regression Lines Comparison')\n",
    "\n",
    "plt.tight_layout()\n",
    "plt.show()\n",
    "\n",
    "# Print initialization values and final parameters\n",
    "print(\"\\nInitialization Values:\")\n",
    "print(f\"Random: a={random.random():.3f}, b={random.random():.3f}\")\n",
    "print(f\"RF Meta-learned: a={a_init_rf:.3f}, b={b_init_rf:.3f}\")\n",
    "print(f\"SVR Meta-learned: a={a_init_svr:.3f}, b={b_init_svr:.3f}\")\n",
    "\n",
    "print(\"\\nFinal Parameters:\")\n",
    "print(f\"Random: a={a_random:.3f}, b={b_random:.3f}\")\n",
    "print(f\"RF Meta-learned: a={a_rf:.3f}, b={b_rf:.3f}\")\n",
    "print(f\"SVR Meta-learned: a={a_svr:.3f}, b={b_svr:.3f}\")"
   ]
  },
  {
   "cell_type": "code",
   "execution_count": null,
   "id": "af669519-55fe-4f18-81f0-77d7e4f2ea9a",
   "metadata": {},
   "outputs": [],
   "source": []
  },
  {
   "cell_type": "code",
   "execution_count": null,
   "id": "2f2d745c-1baa-41f8-b779-55e80bd85c53",
   "metadata": {},
   "outputs": [],
   "source": []
  },
  {
   "cell_type": "markdown",
   "id": "d687573d",
   "metadata": {},
   "source": [
    "## Next ?\n",
    "\n",
    "\n",
    "1) you do the same, but now for other models (not linear regression)\n",
    "maybe :\n",
    "\n",
    "     * multiple output regression\n",
    "     * logistic regression\n",
    "     * simple neural net (less than 20 neurons)\n",
    "     * etc.\n",
    "\n",
    "\n"
   ]
  },
  {
   "cell_type": "code",
   "execution_count": null,
   "id": "2914d992-4d9a-4350-b55c-b610930b6368",
   "metadata": {},
   "outputs": [],
   "source": []
  },
  {
   "cell_type": "code",
   "execution_count": null,
   "id": "b782c8ca-1bea-4d32-ab1a-13924933ed30",
   "metadata": {},
   "outputs": [],
   "source": []
  },
  {
   "cell_type": "code",
   "execution_count": null,
   "id": "7958999e-22f1-45ec-be1b-e8ad27a24cf0",
   "metadata": {},
   "outputs": [],
   "source": []
  },
  {
   "cell_type": "code",
   "execution_count": null,
   "id": "25190e0f-a1ca-4f1b-a916-113981dd398e",
   "metadata": {},
   "outputs": [],
   "source": []
  },
  {
   "cell_type": "code",
   "execution_count": null,
   "id": "3aa9ca74-150a-47a5-bf97-80c23d1bdb5a",
   "metadata": {},
   "outputs": [],
   "source": []
  },
  {
   "cell_type": "code",
   "execution_count": null,
   "id": "bba0e722-26b7-4ab7-85bb-fa242466ddbe",
   "metadata": {},
   "outputs": [],
   "source": []
  },
  {
   "cell_type": "code",
   "execution_count": null,
   "id": "f9b26dab-0e30-4e76-9dcd-3b11f3521fe2",
   "metadata": {},
   "outputs": [],
   "source": []
  },
  {
   "cell_type": "code",
   "execution_count": null,
   "id": "8704f3d1-0711-429c-9af4-7e8e06ac6680",
   "metadata": {},
   "outputs": [],
   "source": []
  },
  {
   "cell_type": "code",
   "execution_count": null,
   "id": "8f0223db-55be-4c45-83e1-9226888dd7c9",
   "metadata": {},
   "outputs": [],
   "source": []
  },
  {
   "cell_type": "code",
   "execution_count": null,
   "id": "a82dbdb9-f5ba-415d-a037-5eee3bc965b5",
   "metadata": {},
   "outputs": [],
   "source": []
  },
  {
   "cell_type": "code",
   "execution_count": null,
   "id": "feba5a23-4d90-4298-94d6-d2228e303374",
   "metadata": {},
   "outputs": [],
   "source": []
  },
  {
   "cell_type": "code",
   "execution_count": null,
   "id": "92fe1837-ff45-4347-bb3d-6e17955e7217",
   "metadata": {},
   "outputs": [],
   "source": []
  },
  {
   "cell_type": "code",
   "execution_count": null,
   "id": "d1c526af-507a-42e9-ae0b-04eb47bf92d4",
   "metadata": {},
   "outputs": [],
   "source": []
  },
  {
   "cell_type": "code",
   "execution_count": null,
   "id": "f5670d6d-d8c6-4eb3-ae49-aef9591a3ab4",
   "metadata": {},
   "outputs": [],
   "source": []
  }
 ],
 "metadata": {
  "kernelspec": {
   "display_name": "Python 3 (ipykernel)",
   "language": "python",
   "name": "python3"
  },
  "language_info": {
   "codemirror_mode": {
    "name": "ipython",
    "version": 3
   },
   "file_extension": ".py",
   "mimetype": "text/x-python",
   "name": "python",
   "nbconvert_exporter": "python",
   "pygments_lexer": "ipython3",
   "version": "3.10.14"
  }
 },
 "nbformat": 4,
 "nbformat_minor": 5
}
