{
  "nbformat": 4,
  "nbformat_minor": 0,
  "metadata": {
    "colab": {
      "provenance": []
    },
    "kernelspec": {
      "name": "python3",
      "display_name": "Python 3"
    },
    "language_info": {
      "name": "python"
    }
  },
  "cells": [
    {
      "cell_type": "code",
      "execution_count": 10,
      "metadata": {
        "id": "1yH5YxFGP7qv"
      },
      "outputs": [],
      "source": [
        "import numpy as np\n",
        "import pandas as pd\n",
        "from sklearn.ensemble import RandomForestRegressor\n",
        "from sklearn.svm import SVR\n",
        "from sklearn.preprocessing import StandardScaler\n",
        "from sklearn.model_selection import train_test_split\n",
        "import matplotlib.pyplot as plt"
      ]
    },
    {
      "cell_type": "code",
      "source": [],
      "metadata": {
        "id": "z_xePRY8ghmL"
      },
      "execution_count": 10,
      "outputs": []
    },
    {
      "cell_type": "code",
      "source": [
        "# Génération de données simulées pour le méta-dataset\n",
        "def generate_meta_dataset(n_datasets=500, n_features=5):\n",
        "    meta_features = []\n",
        "    optimal_params = []\n",
        "    for _ in range(n_datasets):\n",
        "        X = np.random.rand(100, n_features)\n",
        "        true_coefficients = np.random.uniform(0.5, 2.0, size=n_features)\n",
        "        true_b = np.random.uniform(0.5, 2.0)\n",
        "        y = np.dot(X, true_coefficients) + true_b + np.random.normal(0, 0.1, size=100)\n",
        "        meta = extract_meta_features_multi(pd.DataFrame(X), y)\n",
        "        meta_features.append(meta.iloc[:-1, 1:].values.flatten())  # Enlever les noms des colonnes\n",
        "        optimal_params.append(np.append(true_coefficients, true_b))  # Coefficients + biais\n",
        "    return np.array(meta_features), np.array(optimal_params)"
      ],
      "metadata": {
        "id": "hg8GbPfnfURN"
      },
      "execution_count": 11,
      "outputs": []
    },
    {
      "cell_type": "code",
      "source": [],
      "metadata": {
        "id": "R_ZOa_BngiWT"
      },
      "execution_count": 11,
      "outputs": []
    },
    {
      "cell_type": "code",
      "source": [
        "# Extraire les méta-caractéristiques d'un dataset\n",
        "def extract_meta_features_multi(X, y):\n",
        "    meta_features = []\n",
        "    for col in X.columns:\n",
        "        x_col = X[col]\n",
        "        meta_features.append({\n",
        "            'Feature': col,\n",
        "            'mean': np.mean(x_col),\n",
        "            'std': np.std(x_col),\n",
        "            'range': np.max(x_col) - np.min(x_col),\n",
        "            'skew': np.mean(((x_col - np.mean(x_col)) / np.std(x_col))**3),\n",
        "            'correlation_with_y': np.corrcoef(x_col, y)[0, 1]\n",
        "        })\n",
        "    meta_features.append({\n",
        "        'Feature': 'y',\n",
        "        'mean': np.mean(y),\n",
        "        'std': np.std(y),\n",
        "        'range': np.max(y) - np.min(y),\n",
        "        'skew': np.mean(((y - np.mean(y)) / np.std(y))**3),\n",
        "        'correlation_with_y': None\n",
        "    })\n",
        "    return pd.DataFrame(meta_features)"
      ],
      "metadata": {
        "id": "VTFMMAnWfXQr"
      },
      "execution_count": 12,
      "outputs": []
    },
    {
      "cell_type": "code",
      "source": [],
      "metadata": {
        "id": "-X-qrY_7gjLs"
      },
      "execution_count": 12,
      "outputs": []
    },
    {
      "cell_type": "code",
      "source": [
        "# Classe AdvancedMetaLearner\n",
        "class AdvancedMetaLearner:\n",
        "    def __init__(self, model_type='rf', n_features=5):\n",
        "        self.model_type = model_type\n",
        "        self.n_features = n_features\n",
        "        self.scaler = StandardScaler()\n",
        "        self.models = []\n",
        "        if model_type == 'rf':\n",
        "            for _ in range(n_features + 1):  # Un modèle pour chaque coefficient + biais\n",
        "                self.models.append(RandomForestRegressor(n_estimators=100, max_depth=10))\n",
        "        elif model_type == 'svr':\n",
        "            for _ in range(n_features + 1):\n",
        "                self.models.append(SVR(kernel='rbf', C=1.0, epsilon=0.1))\n",
        "\n",
        "    def train(self, meta_features, optimal_params):\n",
        "        X_scaled = self.scaler.fit_transform(meta_features)\n",
        "        for i in range(self.n_features + 1):\n",
        "            self.models[i].fit(X_scaled, optimal_params[:, i])\n",
        "\n",
        "    def predict(self, meta_features):\n",
        "        X_scaled = self.scaler.transform(meta_features.reshape(1, -1))\n",
        "        predictions = []\n",
        "        for i in range(self.n_features + 1):\n",
        "            pred = self.models[i].predict(X_scaled)[0]\n",
        "            predictions.append(pred)\n",
        "        return predictions"
      ],
      "metadata": {
        "id": "Tx_agUlmfbUX"
      },
      "execution_count": 13,
      "outputs": []
    },
    {
      "cell_type": "code",
      "source": [],
      "metadata": {
        "id": "NYgkDa4HgkU2"
      },
      "execution_count": 13,
      "outputs": []
    },
    {
      "cell_type": "code",
      "source": [
        "# Générer un nouveau dataset\n",
        "def generate_dataset(n_features=5, true_coefficients=None, true_b=None):\n",
        "    if true_coefficients is None:\n",
        "        true_coefficients = np.random.uniform(0.5, 2.0, size=n_features)\n",
        "    if true_b is None:\n",
        "        true_b = np.random.uniform(0.5, 2.0)\n",
        "    X = np.random.rand(100, n_features)\n",
        "    y = np.dot(X, true_coefficients) + true_b + np.random.normal(0, 0.1, size=100)\n",
        "    return X, y"
      ],
      "metadata": {
        "id": "yhRCg9E1fe_Y"
      },
      "execution_count": 14,
      "outputs": []
    },
    {
      "cell_type": "code",
      "source": [],
      "metadata": {
        "id": "1K6L80aUglM1"
      },
      "execution_count": 14,
      "outputs": []
    },
    {
      "cell_type": "code",
      "source": [
        "# Évaluation du système de méta-apprentissage\n",
        "def evaluate_meta_learning_system():\n",
        "    # Générer le méta-dataset\n",
        "    meta_features, optimal_params = generate_meta_dataset(n_datasets=500, n_features=5)\n",
        "\n",
        "    # Split train/validation\n",
        "    X_train, X_val, y_train, y_val = train_test_split(\n",
        "        meta_features, optimal_params, test_size=0.2, random_state=42\n",
        "    )\n",
        "\n",
        "    # Entraîner les méta-learners\n",
        "    rf_meta_learner = AdvancedMetaLearner(model_type='rf', n_features=5)\n",
        "    svr_meta_learner = AdvancedMetaLearner(model_type='svr', n_features=5)\n",
        "    rf_meta_learner.train(X_train, y_train)\n",
        "    svr_meta_learner.train(X_train, y_train)\n",
        "\n",
        "    # Tester sur un nouveau dataset\n",
        "    X_test, y_test = generate_dataset(\n",
        "        n_features=5,\n",
        "        true_coefficients=[1.0, 2.0, 3.0, 4.0, 5.0],\n",
        "        true_b=1.5\n",
        "    )\n",
        "\n",
        "    # Extraire les méta-features du test\n",
        "    meta_dict = extract_meta_features_multi(pd.DataFrame(X_test), y_test)\n",
        "    combined_features = []\n",
        "    for feature_name in sorted(meta_dict['Feature'][:-1]):\n",
        "        combined_features.extend(meta_dict.loc[meta_dict['Feature'] == feature_name].iloc[:, 1:].values.flatten())\n",
        "    test_meta_features = np.array(combined_features)\n",
        "\n",
        "    # Obtenir les initialisations prédites\n",
        "    predictions_rf = rf_meta_learner.predict(test_meta_features)\n",
        "    predictions_svr = svr_meta_learner.predict(test_meta_features)\n",
        "\n",
        "    return (X_test, y_test,\n",
        "            predictions_rf[:-1], predictions_rf[-1],\n",
        "            predictions_svr[:-1], predictions_svr[-1])"
      ],
      "metadata": {
        "id": "i0n_XAfOfnYi"
      },
      "execution_count": 15,
      "outputs": []
    },
    {
      "cell_type": "code",
      "source": [],
      "metadata": {
        "id": "P6Wqo4Msgl3g"
      },
      "execution_count": 15,
      "outputs": []
    },
    {
      "cell_type": "code",
      "source": [
        "# Fonction de descente de gradient pour la régression linéaire\n",
        "def train_linear_regression(X, y, coefficients_init, b_init, epochs=500, learning_rate=0.005):\n",
        "    # Initialisation des coefficients pour chaque feature\n",
        "    coefficients = coefficients_init  # [a1, a2, a3, ..., an]\n",
        "    b = b_init\n",
        "    losses = []\n",
        "\n",
        "    # Descente de gradient\n",
        "    for i in range(epochs):\n",
        "        # Prédiction: y = a1*x1 + a2*x2 + ... + an*xn + b\n",
        "        y_pred = np.dot(X, coefficients) + b\n",
        "\n",
        "        # Calcul de l'erreur quadratique moyenne\n",
        "        loss = np.mean((y - y_pred)**2)\n",
        "        losses.append(loss)\n",
        "\n",
        "        # Calcul des gradients pour chaque coefficient\n",
        "        D_coefficients = -2 * np.mean(X * (y - y_pred)[:, np.newaxis], axis=0)\n",
        "        Db = -2 * np.mean(y - y_pred)\n",
        "\n",
        "        # Mise à jour des coefficients et du biais\n",
        "        coefficients = coefficients - learning_rate * D_coefficients\n",
        "        b = b - learning_rate * Db\n",
        "\n",
        "    return coefficients, b, losses"
      ],
      "metadata": {
        "id": "YsMDjlsafwGp"
      },
      "execution_count": 16,
      "outputs": []
    },
    {
      "cell_type": "code",
      "source": [],
      "metadata": {
        "id": "aeM7M-N3gmwk"
      },
      "execution_count": 16,
      "outputs": []
    },
    {
      "cell_type": "code",
      "source": [
        "\n",
        "# Comparaison des approches\n",
        "X_test, y_test, a_rf, b_rf, a_svr, b_svr = evaluate_meta_learning_system()\n"
      ],
      "metadata": {
        "id": "kvVuxUtGf2Ta"
      },
      "execution_count": 17,
      "outputs": []
    },
    {
      "cell_type": "code",
      "source": [
        "# Initialisation aléatoire\n",
        "random_coefficients = np.random.rand(X_test.shape[1])\n",
        "random_bias = np.random.rand()"
      ],
      "metadata": {
        "id": "FT38Ycp6gpaI"
      },
      "execution_count": 18,
      "outputs": []
    },
    {
      "cell_type": "code",
      "source": [],
      "metadata": {
        "id": "IZLfHaqFgqsS"
      },
      "execution_count": 18,
      "outputs": []
    },
    {
      "cell_type": "code",
      "source": [
        "print(\"=== Initialisations ===\")\n",
        "print(\"\\nInitialisation aléatoire :\")\n",
        "print(\"Coefficients initiaux :\", random_coefficients)\n",
        "print(\"Biais initial :\", random_bias)\n",
        "\n",
        "print(\"\\nInitialisation par Random Forest :\")\n",
        "print(\"Coefficients initiaux :\", a_rf)\n",
        "print(\"Biais initial :\", b_rf)\n",
        "\n",
        "print(\"\\nInitialisation par SVR :\")\n",
        "print(\"Coefficients initiaux :\", a_svr)\n",
        "print(\"Biais initial :\", b_svr)\n",
        "\n",
        "# Entraînement avec descente de gradient\n",
        "coeff_rf, bias_rf, losses_rf = train_linear_regression(X_test, y_test, a_rf, b_rf)\n",
        "coeff_svr, bias_svr, losses_svr = train_linear_regression(X_test, y_test, a_svr, b_svr)\n",
        "coeff_rand, bias_rand, losses_rand = train_linear_regression(X_test, y_test, random_coefficients, random_bias)\n",
        "\n",
        "# Résultats finaux\n",
        "print(\"\\n=== Résultats après descente de gradient ===\")\n",
        "print(\"\\nRésultats avec initialisation aléatoire :\")\n",
        "print(\"Coefficients finaux :\", coeff_rand)\n",
        "print(\"Biais final :\", bias_rand)\n",
        "\n",
        "print(\"\\nRésultats avec initialisation par Random Forest :\")\n",
        "print(\"Coefficients finaux :\", coeff_rf)\n",
        "print(\"Biais final :\", bias_rf)\n",
        "\n",
        "print(\"\\nRésultats avec initialisation par SVR :\")\n",
        "print(\"Coefficients finaux :\", coeff_svr)\n",
        "print(\"Biais final :\", bias_svr)\n",
        "\n",
        "# Courbes de convergence\n",
        "plt.plot(losses_rf, 'o' , label=\"Random Forest\")\n",
        "plt.plot(losses_svr, label=\"SVR\")\n",
        "plt.plot(losses_rand, label=\"Aléatoire\")\n",
        "plt.xlabel(\"Epochs\")\n",
        "plt.ylabel(\"Loss\")\n",
        "plt.legend()\n",
        "plt.title(\"Convergence des approches\")\n",
        "plt.show()"
      ],
      "metadata": {
        "colab": {
          "base_uri": "https://localhost:8080/",
          "height": 941
        },
        "id": "AQvsHieGgJj1",
        "outputId": "f6f45aa1-d776-43ef-de59-7b122ce5af43"
      },
      "execution_count": 19,
      "outputs": [
        {
          "output_type": "stream",
          "name": "stdout",
          "text": [
            "=== Initialisations ===\n",
            "\n",
            "Initialisation aléatoire :\n",
            "Coefficients initiaux : [0.52964411 0.13462462 0.16036507 0.96366972 0.96011484]\n",
            "Biais initial : 0.012793659156327464\n",
            "\n",
            "Initialisation par Random Forest :\n",
            "Coefficients initiaux : [0.864368903584229, 1.1860249198836443, 1.1728901683795592, 1.2471412710249161, 1.7919257544255598]\n",
            "Biais initial : 1.3134260386887064\n",
            "\n",
            "Initialisation par SVR :\n",
            "Coefficients initiaux : [0.8466697082349504, 1.2618843362169938, 1.2699412877162095, 1.2508137520765068, 1.9520646206331511]\n",
            "Biais initial : 1.3671071203326175\n",
            "\n",
            "=== Résultats après descente de gradient ===\n",
            "\n",
            "Résultats avec initialisation aléatoire :\n",
            "Coefficients finaux : [1.75653425 1.97457406 2.11555006 2.86968025 3.15687351]\n",
            "Biais final : 3.1273766061131254\n",
            "\n",
            "Résultats avec initialisation par Random Forest :\n",
            "Coefficients finaux : [1.54308462 2.17700488 2.29724099 2.60090295 3.27983961]\n",
            "Biais final : 3.1041533993897397\n",
            "\n",
            "Résultats avec initialisation par SVR :\n",
            "Coefficients finaux : [1.49921823 2.19086373 2.33197717 2.57674962 3.36222453]\n",
            "Biais final : 3.071464856370672\n"
          ]
        },
        {
          "output_type": "display_data",
          "data": {
            "text/plain": [
              "<Figure size 640x480 with 1 Axes>"
            ],
            "image/png": "[encoded data removed]"
          },
          "metadata": {}
        }
      ]
    },
    {
      "cell_type": "markdown",
      "source": [
        "Augmentation de dataset"
      ],
      "metadata": {
        "id": "7XdHjgb1Wvh7"
      }
    },
    {
      "cell_type": "code",
      "source": [],
      "metadata": {
        "id": "Mc7OijpfQevp"
      },
      "execution_count": 19,
      "outputs": []
    },
    {
      "cell_type": "code",
      "source": [],
      "metadata": {
        "id": "qw12Q3uWQfiY"
      },
      "execution_count": 19,
      "outputs": []
    },
    {
      "cell_type": "code",
      "source": [],
      "metadata": {
        "id": "uWH4PKKEQflH"
      },
      "execution_count": 19,
      "outputs": []
    },
    {
      "cell_type": "code",
      "source": [],
      "metadata": {
        "id": "aHtyNmnIQfqq"
      },
      "execution_count": 19,
      "outputs": []
    },
    {
      "cell_type": "code",
      "source": [],
      "metadata": {
        "id": "ri6oCJL1QftJ"
      },
      "execution_count": 19,
      "outputs": []
    },
    {
      "cell_type": "code",
      "source": [],
      "metadata": {
        "id": "aOtWpp6AQfv0"
      },
      "execution_count": 19,
      "outputs": []
    },
    {
      "cell_type": "code",
      "source": [],
      "metadata": {
        "id": "TwsvBU3YQf0h"
      },
      "execution_count": 19,
      "outputs": []
    },
    {
      "cell_type": "code",
      "source": [],
      "metadata": {
        "id": "yTqitbuqQf2l"
      },
      "execution_count": 19,
      "outputs": []
    },
    {
      "cell_type": "code",
      "source": [],
      "metadata": {
        "id": "KcuHZgEVQf6S"
      },
      "execution_count": 19,
      "outputs": []
    },
    {
      "cell_type": "code",
      "source": [],
      "metadata": {
        "id": "2PPTmEdcQHNB"
      },
      "execution_count": 19,
      "outputs": []
    }
  ]
}